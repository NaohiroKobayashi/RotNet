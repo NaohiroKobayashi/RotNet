{
 "cells": [
  {
   "cell_type": "code",
   "execution_count": 10,
   "metadata": {
    "collapsed": false
   },
   "outputs": [
    {
     "name": "stdout",
     "output_type": "stream",
     "text": [
      "The autoreload extension is already loaded. To reload it, use:\n",
      "  %reload_ext autoreload\n"
     ]
    }
   ],
   "source": [
    "from __future__ import print_function\n",
    "\n",
    "%matplotlib inline\n",
    "%load_ext autoreload\n",
    "%autoreload 2\n",
    "\n",
    "\n",
    "import os\n",
    "import sys\n",
    "import numpy as np\n",
    "import matplotlib.pyplot as plt\n",
    "\n",
    "from keras.applications.imagenet_utils import preprocess_input\n",
    "from keras.models import load_model\n",
    "\n",
    "sys.path.append('..')\n",
    "from utils import display_examples, RotNetDataGenerator, angle_error, display_examples_justangle\n",
    "from data.street_view import get_filenames"
   ]
  },
  {
   "cell_type": "markdown",
   "metadata": {},
   "source": [
    "## Load file names"
   ]
  },
  {
   "cell_type": "code",
   "execution_count": 3,
   "metadata": {
    "collapsed": false
   },
   "outputs": [
    {
     "data": {
      "text/plain": [
       "['..\\\\data\\\\test_examples\\\\0-1.jpg',\n",
       " '..\\\\data\\\\test_examples\\\\0-2.jpg',\n",
       " '..\\\\data\\\\test_examples\\\\0-3.jpg',\n",
       " '..\\\\data\\\\test_examples\\\\1-1.jpg',\n",
       " '..\\\\data\\\\test_examples\\\\1-2.jpg',\n",
       " '..\\\\data\\\\test_examples\\\\2-1.jpg',\n",
       " '..\\\\data\\\\test_examples\\\\2-2.JPG',\n",
       " '..\\\\data\\\\test_examples\\\\2-3.jpg',\n",
       " '..\\\\data\\\\test_examples\\\\3-1.jpg',\n",
       " '..\\\\data\\\\test_examples\\\\3-2.jpg']"
      ]
     },
     "execution_count": 3,
     "metadata": {},
     "output_type": "execute_result"
    }
   ],
   "source": [
    "street_view_dir = os.path.join('..', 'data', 'street_view')\n",
    "# street_view_dir = 'G:/VScode/RotNet/data/test_examples'\n",
    "\n",
    "if os.path.exists(street_view_dir):\n",
    "    test_filenames = get_filenames(street_view_dir)[1]\n",
    "else:\n",
    "    test_examples_path = os.path.join('..', 'data', 'test_examples')\n",
    "    test_filenames = [\n",
    "        os.path.join(test_examples_path, f) for f in os.listdir(test_examples_path)\n",
    "    ]\n",
    "test_filenames"
   ]
  },
  {
   "cell_type": "markdown",
   "metadata": {},
   "source": [
    "## Load model"
   ]
  },
  {
   "cell_type": "code",
   "execution_count": 4,
   "metadata": {
    "collapsed": false
   },
   "outputs": [
    {
     "name": "stderr",
     "output_type": "stream",
     "text": [
      "g:\\VScode\\venv-rotnet\\lib\\site-packages\\keras\\engine\\saving.py:341: UserWarning: No training configuration found in save file: the model was *not* compiled. Compile it manually.\n",
      "  warnings.warn('No training configuration found in save file: '\n"
     ]
    }
   ],
   "source": [
    "model_location = os.path.join('..', 'models', 'rotnet_street_view_resnet50_keras2.hdf5')\n",
    "model = load_model(model_location, custom_objects={'angle_error': angle_error})"
   ]
  },
  {
   "cell_type": "markdown",
   "metadata": {},
   "source": [
    "## Evaluate model"
   ]
  },
  {
   "cell_type": "code",
   "execution_count": 6,
   "metadata": {},
   "outputs": [],
   "source": [
    "from keras.optimizers import SGD"
   ]
  },
  {
   "cell_type": "code",
   "execution_count": 7,
   "metadata": {},
   "outputs": [],
   "source": [
    "model.compile(loss='categorical_crossentropy',\n",
    "              optimizer=SGD(lr=0.01, momentum=0.9),\n",
    "              metrics=[angle_error])\n",
    "\n"
   ]
  },
  {
   "cell_type": "code",
   "execution_count": 9,
   "metadata": {},
   "outputs": [],
   "source": [
    "model_location = os.path.join('..', 'models', 'rotnet_street_view_resnet50_keras2_compailed.hdf5')\n",
    "model.save(model_location)"
   ]
  },
  {
   "cell_type": "code",
   "execution_count": null,
   "metadata": {
    "collapsed": false
   },
   "outputs": [],
   "source": [
    "batch_size = 64\n",
    "out = model.evaluate_generator(\n",
    "    RotNetDataGenerator(\n",
    "        test_filenames,\n",
    "        input_shape=(224, 224, 3),\n",
    "        batch_size=batch_size,\n",
    "        preprocess_func=preprocess_input,\n",
    "        crop_center=True,\n",
    "        crop_largest_rect=True,\n",
    "        shuffle=True\n",
    "    ),\n",
    "    steps=len(test_filenames) / batch_size\n",
    ")\n",
    "\n",
    "print('Test loss:', out[0])\n",
    "print('Test angle error:', out[1])"
   ]
  },
  {
   "cell_type": "code",
   "execution_count": 8,
   "metadata": {},
   "outputs": [
    {
     "name": "stdout",
     "output_type": "stream",
     "text": [
      "[355 351 355  97  50 173 175 184 248 325]\n",
      "[0 0 0 1 1 2 2 2 3 0]\n"
     ]
    }
   ],
   "source": [
    "angle = display_examples_justangle(\n",
    "    model, \n",
    "    test_filenames,\n",
    "    num_images=10,\n",
    "    size=(224, 224),\n",
    "    crop_center=True,\n",
    "    crop_largest_rect=True,\n",
    "    preprocess_func=preprocess_input,\n",
    ")\n",
    "\n",
    "# 角度を基に回転予測\n",
    "\n",
    "angle[(angle>315) | (angle<=45)] = 0\n",
    "angle[(angle>45) & (angle<=135)] = 1\n",
    "angle[(angle>135) & (angle<=225)] = 2\n",
    "angle[(angle>225) & (angle<=315)] = 3\n",
    "\n",
    "print(angle)\n"
   ]
  },
  {
   "cell_type": "markdown",
   "metadata": {},
   "source": [
    "## Display examples"
   ]
  },
  {
   "cell_type": "code",
   "execution_count": null,
   "metadata": {
    "collapsed": false
   },
   "outputs": [],
   "source": [
    "num_images = 5\n",
    "\n",
    "display_examples(\n",
    "    model, \n",
    "    test_filenames,\n",
    "    num_images=num_images,\n",
    "    size=(224, 224),\n",
    "    crop_center=True,\n",
    "    crop_largest_rect=True,\n",
    "    preprocess_func=preprocess_input,\n",
    ")"
   ]
  }
 ],
 "metadata": {
  "anaconda-cloud": {},
  "kernelspec": {
   "display_name": "venv-rotnet",
   "language": "python",
   "name": "python3"
  },
  "language_info": {
   "codemirror_mode": {
    "name": "ipython",
    "version": 3
   },
   "file_extension": ".py",
   "mimetype": "text/x-python",
   "name": "python",
   "nbconvert_exporter": "python",
   "pygments_lexer": "ipython3",
   "version": "3.7.0"
  }
 },
 "nbformat": 4,
 "nbformat_minor": 1
}
