{
 "cells": [
  {
   "cell_type": "code",
   "execution_count": 1,
   "metadata": {},
   "outputs": [
    {
     "name": "stderr",
     "output_type": "stream",
     "text": [
      "Using TensorFlow backend.\n"
     ]
    }
   ],
   "source": [
    "from __future__ import print_function\n",
    "\n",
    "%matplotlib inline\n",
    "%load_ext autoreload\n",
    "%autoreload 2\n",
    "\n",
    "import os\n",
    "import sys\n",
    "\n",
    "from keras.applications.imagenet_utils import preprocess_input\n",
    "from keras.models import load_model\n",
    "\n",
    "sys.path.append('..')\n",
    "from utils import angle_error, display_examples_justangle\n",
    "from data.street_view import get_filenames"
   ]
  },
  {
   "cell_type": "code",
   "execution_count": 2,
   "metadata": {},
   "outputs": [
    {
     "data": {
      "text/plain": [
       "['..\\\\data\\\\test_examples\\\\0-1.jpg',\n",
       " '..\\\\data\\\\test_examples\\\\0-2.jpg',\n",
       " '..\\\\data\\\\test_examples\\\\0-3.jpg',\n",
       " '..\\\\data\\\\test_examples\\\\1-1.jpg',\n",
       " '..\\\\data\\\\test_examples\\\\1-2.jpg',\n",
       " '..\\\\data\\\\test_examples\\\\2-1.jpg',\n",
       " '..\\\\data\\\\test_examples\\\\2-2.JPG',\n",
       " '..\\\\data\\\\test_examples\\\\2-3.jpg',\n",
       " '..\\\\data\\\\test_examples\\\\3-1.jpg',\n",
       " '..\\\\data\\\\test_examples\\\\3-2.jpg']"
      ]
     },
     "execution_count": 2,
     "metadata": {},
     "output_type": "execute_result"
    }
   ],
   "source": [
    "street_view_dir = os.path.join('..', 'data', 'street_view')\n",
    "\n",
    "if os.path.exists(street_view_dir):\n",
    "    test_filenames = get_filenames(street_view_dir)[1]\n",
    "else:\n",
    "    test_examples_path = os.path.join('..', 'data', 'test_examples')\n",
    "    test_filenames = [\n",
    "        os.path.join(test_examples_path, f) for f in os.listdir(test_examples_path)\n",
    "    ]\n",
    "test_filenames"
   ]
  },
  {
   "cell_type": "code",
   "execution_count": 3,
   "metadata": {},
   "outputs": [],
   "source": [
    "model_location = os.path.join('..', 'models', 'rotnet_street_view_resnet50_keras2_compailed.hdf5')\n",
    "model = load_model(model_location, custom_objects={'angle_error': angle_error})"
   ]
  },
  {
   "cell_type": "code",
   "execution_count": 5,
   "metadata": {},
   "outputs": [
    {
     "name": "stdout",
     "output_type": "stream",
     "text": [
      "[ 97  81  97  97  50 353 355 184 248 149]\n",
      "[1 1 1 1 1 0 0 2 3 2]\n",
      "['..\\\\data\\\\test_examples\\\\0-1.jpg', '..\\\\data\\\\test_examples\\\\0-2.jpg', '..\\\\data\\\\test_examples\\\\0-3.jpg', '..\\\\data\\\\test_examples\\\\1-1.jpg', '..\\\\data\\\\test_examples\\\\1-2.jpg', '..\\\\data\\\\test_examples\\\\2-1.jpg', '..\\\\data\\\\test_examples\\\\2-2.JPG', '..\\\\data\\\\test_examples\\\\2-3.jpg', '..\\\\data\\\\test_examples\\\\3-1.jpg', '..\\\\data\\\\test_examples\\\\3-2.jpg']\n"
     ]
    }
   ],
   "source": [
    "angle = display_examples_justangle(\n",
    "    model, \n",
    "    test_filenames,\n",
    "    num_images=10,\n",
    "    size=(224, 224),\n",
    "    crop_center=True,\n",
    "    crop_largest_rect=True,\n",
    "    preprocess_func=preprocess_input,\n",
    ")\n",
    "\n",
    "# 角度を基に回転予測\n",
    "\n",
    "print(angle)"
   ]
  }
 ],
 "metadata": {
  "kernelspec": {
   "display_name": "venv-rotnet",
   "language": "python",
   "name": "python3"
  },
  "language_info": {
   "codemirror_mode": {
    "name": "ipython",
    "version": 3
   },
   "file_extension": ".py",
   "mimetype": "text/x-python",
   "name": "python",
   "nbconvert_exporter": "python",
   "pygments_lexer": "ipython3",
   "version": "3.7.0"
  }
 },
 "nbformat": 4,
 "nbformat_minor": 2
}
